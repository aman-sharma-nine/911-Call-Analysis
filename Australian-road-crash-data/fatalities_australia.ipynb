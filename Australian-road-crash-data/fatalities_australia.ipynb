{
 "cells": [
  {
   "cell_type": "markdown",
   "metadata": {},
   "source": [
    "Influence:\n",
    " Which state has the highest number of fatalaties ?\n",
    " WHich Year has the highest number of fatalaties ?\n",
    " Whats the most common crash type \n",
    " which days of the week highest number of fatalaties ?\n",
    " Find trends\n",
    " "
   ]
  },
  {
   "cell_type": "code",
   "execution_count": 1,
   "metadata": {
    "collapsed": true
   },
   "outputs": [],
   "source": [
    "import pandas as pd\n",
    "import numpy as np\n",
    "import matplotlib.pyplot as plt\n",
    "import seaborn as sns\n",
    "%matplotlib inline"
   ]
  },
  {
   "cell_type": "code",
   "execution_count": 2,
   "metadata": {
    "collapsed": true
   },
   "outputs": [],
   "source": [
    "road_crash = pd.read_csv(\"Fatal_Crashes_December_2017.csv\")"
   ]
  },
  {
   "cell_type": "code",
   "execution_count": 3,
   "metadata": {},
   "outputs": [
    {
     "data": {
      "text/html": [
       "<div>\n",
       "<style>\n",
       "    .dataframe thead tr:only-child th {\n",
       "        text-align: right;\n",
       "    }\n",
       "\n",
       "    .dataframe thead th {\n",
       "        text-align: left;\n",
       "    }\n",
       "\n",
       "    .dataframe tbody tr th {\n",
       "        vertical-align: top;\n",
       "    }\n",
       "</style>\n",
       "<table border=\"1\" class=\"dataframe\">\n",
       "  <thead>\n",
       "    <tr style=\"text-align: right;\">\n",
       "      <th></th>\n",
       "      <th>CrashID</th>\n",
       "      <th>State</th>\n",
       "      <th>Date</th>\n",
       "      <th>Month</th>\n",
       "      <th>Year</th>\n",
       "      <th>Dayweek</th>\n",
       "      <th>Time</th>\n",
       "      <th>Crash_Type</th>\n",
       "      <th>Number_of_Fatalities</th>\n",
       "      <th>Bus_Involvement</th>\n",
       "      <th>Heavy_Rigid_Truck_Involvement</th>\n",
       "      <th>Articulated_Truck_Involvement</th>\n",
       "      <th>Speed_Limit</th>\n",
       "    </tr>\n",
       "  </thead>\n",
       "  <tbody>\n",
       "    <tr>\n",
       "      <th>0</th>\n",
       "      <td>3201701010001</td>\n",
       "      <td>QLD</td>\n",
       "      <td>01-JAN-2017</td>\n",
       "      <td>1</td>\n",
       "      <td>2017</td>\n",
       "      <td>Sunday</td>\n",
       "      <td>0:00:00</td>\n",
       "      <td>Pedestrian</td>\n",
       "      <td>1</td>\n",
       "      <td>No</td>\n",
       "      <td>No</td>\n",
       "      <td>No</td>\n",
       "      <td>50</td>\n",
       "    </tr>\n",
       "    <tr>\n",
       "      <th>1</th>\n",
       "      <td>5201701010001</td>\n",
       "      <td>WA</td>\n",
       "      <td>01-JAN-2017</td>\n",
       "      <td>1</td>\n",
       "      <td>2017</td>\n",
       "      <td>Sunday</td>\n",
       "      <td>16:30:00</td>\n",
       "      <td>Multiple vehicle</td>\n",
       "      <td>1</td>\n",
       "      <td>No</td>\n",
       "      <td>No</td>\n",
       "      <td>No</td>\n",
       "      <td>100</td>\n",
       "    </tr>\n",
       "    <tr>\n",
       "      <th>2</th>\n",
       "      <td>5201701010002</td>\n",
       "      <td>WA</td>\n",
       "      <td>01-JAN-2017</td>\n",
       "      <td>1</td>\n",
       "      <td>2017</td>\n",
       "      <td>Sunday</td>\n",
       "      <td>17:14:00</td>\n",
       "      <td>Multiple vehicle</td>\n",
       "      <td>1</td>\n",
       "      <td>No</td>\n",
       "      <td>No</td>\n",
       "      <td>No</td>\n",
       "      <td>70</td>\n",
       "    </tr>\n",
       "    <tr>\n",
       "      <th>3</th>\n",
       "      <td>1201701020001</td>\n",
       "      <td>NSW</td>\n",
       "      <td>02-JAN-2017</td>\n",
       "      <td>1</td>\n",
       "      <td>2017</td>\n",
       "      <td>Monday</td>\n",
       "      <td>18:10:00</td>\n",
       "      <td>Single vehicle</td>\n",
       "      <td>1</td>\n",
       "      <td>No</td>\n",
       "      <td>No</td>\n",
       "      <td>No</td>\n",
       "      <td>50</td>\n",
       "    </tr>\n",
       "    <tr>\n",
       "      <th>4</th>\n",
       "      <td>1201701020002</td>\n",
       "      <td>NSW</td>\n",
       "      <td>02-JAN-2017</td>\n",
       "      <td>1</td>\n",
       "      <td>2017</td>\n",
       "      <td>Monday</td>\n",
       "      <td>13:15:00</td>\n",
       "      <td>Multiple vehicle</td>\n",
       "      <td>1</td>\n",
       "      <td>No</td>\n",
       "      <td>No</td>\n",
       "      <td>No</td>\n",
       "      <td>80</td>\n",
       "    </tr>\n",
       "  </tbody>\n",
       "</table>\n",
       "</div>"
      ],
      "text/plain": [
       "         CrashID State         Date  Month  Year Dayweek      Time  \\\n",
       "0  3201701010001   QLD  01-JAN-2017      1  2017  Sunday   0:00:00   \n",
       "1  5201701010001    WA  01-JAN-2017      1  2017  Sunday  16:30:00   \n",
       "2  5201701010002    WA  01-JAN-2017      1  2017  Sunday  17:14:00   \n",
       "3  1201701020001   NSW  02-JAN-2017      1  2017  Monday  18:10:00   \n",
       "4  1201701020002   NSW  02-JAN-2017      1  2017  Monday  13:15:00   \n",
       "\n",
       "          Crash_Type  Number_of_Fatalities Bus_Involvement  \\\n",
       "0         Pedestrian                     1              No   \n",
       "1   Multiple vehicle                     1              No   \n",
       "2   Multiple vehicle                     1              No   \n",
       "3     Single vehicle                     1              No   \n",
       "4   Multiple vehicle                     1              No   \n",
       "\n",
       "  Heavy_Rigid_Truck_Involvement Articulated_Truck_Involvement Speed_Limit  \n",
       "0                            No                            No          50  \n",
       "1                            No                            No         100  \n",
       "2                            No                            No          70  \n",
       "3                            No                            No          50  \n",
       "4                            No                            No          80  "
      ]
     },
     "execution_count": 3,
     "metadata": {},
     "output_type": "execute_result"
    }
   ],
   "source": [
    "road_crash.head()"
   ]
  },
  {
   "cell_type": "code",
   "execution_count": 7,
   "metadata": {},
   "outputs": [
    {
     "name": "stdout",
     "output_type": "stream",
     "text": [
      "<class 'pandas.core.frame.DataFrame'>\n",
      "RangeIndex: 43645 entries, 0 to 43644\n",
      "Data columns (total 13 columns):\n",
      "CrashID                          43645 non-null int64\n",
      "State                            43645 non-null object\n",
      "Date                             43645 non-null object\n",
      "Month                            43645 non-null int64\n",
      "Year                             43645 non-null int64\n",
      "Dayweek                          43645 non-null object\n",
      "Time                             43645 non-null object\n",
      "Crash_Type                       43645 non-null object\n",
      "Number_of_Fatalities             43645 non-null int64\n",
      "Bus_Involvement                  43645 non-null object\n",
      "Heavy_Rigid_Truck_Involvement    43645 non-null object\n",
      "Articulated_Truck_Involvement    43645 non-null object\n",
      "Speed_Limit                      43645 non-null object\n",
      "dtypes: int64(4), object(9)\n",
      "memory usage: 4.3+ MB\n"
     ]
    }
   ],
   "source": [
    "  road_crash.info()"
   ]
  },
  {
   "cell_type": "code",
   "execution_count": 76,
   "metadata": {},
   "outputs": [
    {
     "data": {
      "text/html": [
       "<div>\n",
       "<style>\n",
       "    .dataframe thead tr:only-child th {\n",
       "        text-align: right;\n",
       "    }\n",
       "\n",
       "    .dataframe thead th {\n",
       "        text-align: left;\n",
       "    }\n",
       "\n",
       "    .dataframe tbody tr th {\n",
       "        vertical-align: top;\n",
       "    }\n",
       "</style>\n",
       "<table border=\"1\" class=\"dataframe\">\n",
       "  <thead>\n",
       "    <tr style=\"text-align: right;\">\n",
       "      <th></th>\n",
       "      <th>CrashID</th>\n",
       "      <th>Month</th>\n",
       "      <th>Year</th>\n",
       "      <th>Number_of_Fatalities</th>\n",
       "    </tr>\n",
       "  </thead>\n",
       "  <tbody>\n",
       "    <tr>\n",
       "      <th>count</th>\n",
       "      <td>4.364500e+04</td>\n",
       "      <td>43645.000000</td>\n",
       "      <td>43645.000000</td>\n",
       "      <td>43645.000000</td>\n",
       "    </tr>\n",
       "    <tr>\n",
       "      <th>mean</th>\n",
       "      <td>2.932166e+12</td>\n",
       "      <td>6.588200</td>\n",
       "      <td>2001.399221</td>\n",
       "      <td>1.113346</td>\n",
       "    </tr>\n",
       "    <tr>\n",
       "      <th>std</th>\n",
       "      <td>1.710248e+12</td>\n",
       "      <td>3.454968</td>\n",
       "      <td>8.319840</td>\n",
       "      <td>0.453812</td>\n",
       "    </tr>\n",
       "    <tr>\n",
       "      <th>min</th>\n",
       "      <td>1.198901e+12</td>\n",
       "      <td>1.000000</td>\n",
       "      <td>1989.000000</td>\n",
       "      <td>1.000000</td>\n",
       "    </tr>\n",
       "    <tr>\n",
       "      <th>25%</th>\n",
       "      <td>1.201001e+12</td>\n",
       "      <td>4.000000</td>\n",
       "      <td>1994.000000</td>\n",
       "      <td>1.000000</td>\n",
       "    </tr>\n",
       "    <tr>\n",
       "      <th>50%</th>\n",
       "      <td>2.201203e+12</td>\n",
       "      <td>7.000000</td>\n",
       "      <td>2001.000000</td>\n",
       "      <td>1.000000</td>\n",
       "    </tr>\n",
       "    <tr>\n",
       "      <th>75%</th>\n",
       "      <td>4.199404e+12</td>\n",
       "      <td>10.000000</td>\n",
       "      <td>2008.000000</td>\n",
       "      <td>1.000000</td>\n",
       "    </tr>\n",
       "    <tr>\n",
       "      <th>max</th>\n",
       "      <td>8.201711e+12</td>\n",
       "      <td>12.000000</td>\n",
       "      <td>2017.000000</td>\n",
       "      <td>35.000000</td>\n",
       "    </tr>\n",
       "  </tbody>\n",
       "</table>\n",
       "</div>"
      ],
      "text/plain": [
       "            CrashID         Month          Year  Number_of_Fatalities\n",
       "count  4.364500e+04  43645.000000  43645.000000          43645.000000\n",
       "mean   2.932166e+12      6.588200   2001.399221              1.113346\n",
       "std    1.710248e+12      3.454968      8.319840              0.453812\n",
       "min    1.198901e+12      1.000000   1989.000000              1.000000\n",
       "25%    1.201001e+12      4.000000   1994.000000              1.000000\n",
       "50%    2.201203e+12      7.000000   2001.000000              1.000000\n",
       "75%    4.199404e+12     10.000000   2008.000000              1.000000\n",
       "max    8.201711e+12     12.000000   2017.000000             35.000000"
      ]
     },
     "execution_count": 76,
     "metadata": {},
     "output_type": "execute_result"
    }
   ],
   "source": [
    "road_crash.describe()"
   ]
  },
  {
   "cell_type": "markdown",
   "metadata": {},
   "source": [
    "# Missing data"
   ]
  },
  {
   "cell_type": "code",
   "execution_count": 4,
   "metadata": {},
   "outputs": [
    {
     "data": {
      "text/plain": [
       "CrashID                          0\n",
       "State                            0\n",
       "Date                             0\n",
       "Month                            0\n",
       "Year                             0\n",
       "Dayweek                          0\n",
       "Time                             0\n",
       "Crash_Type                       0\n",
       "Number_of_Fatalities             0\n",
       "Bus_Involvement                  0\n",
       "Heavy_Rigid_Truck_Involvement    0\n",
       "Articulated_Truck_Involvement    0\n",
       "Speed_Limit                      0\n",
       "dtype: int64"
      ]
     },
     "execution_count": 4,
     "metadata": {},
     "output_type": "execute_result"
    }
   ],
   "source": [
    "road_crash.isnull().sum()"
   ]
  },
  {
   "cell_type": "markdown",
   "metadata": {},
   "source": [
    "# Exploratory Data Analysis"
   ]
  },
  {
   "cell_type": "code",
   "execution_count": 9,
   "metadata": {},
   "outputs": [
    {
     "data": {
      "text/plain": [
       "NSW    13561\n",
       "VIC     9662\n",
       "QLD     8576\n",
       "WA      5141\n",
       "SA      3719\n",
       "NT      1309\n",
       "TAS     1267\n",
       "ACT      410\n",
       "Name: State, dtype: int64"
      ]
     },
     "execution_count": 9,
     "metadata": {},
     "output_type": "execute_result"
    }
   ],
   "source": [
    "#Number of fatalaties in each state\n",
    "road_crash[\"State\"].value_counts()"
   ]
  },
  {
   "cell_type": "code",
   "execution_count": 11,
   "metadata": {},
   "outputs": [
    {
     "data": {
      "text/plain": [
       "1     39800\n",
       "2      3098\n",
       "3       543\n",
       "4       142\n",
       "5        39\n",
       "6        14\n",
       "7         3\n",
       "11        2\n",
       "20        1\n",
       "12        1\n",
       "10        1\n",
       "35        1\n",
       "Name: Number_of_Fatalities, dtype: int64"
      ]
     },
     "execution_count": 11,
     "metadata": {},
     "output_type": "execute_result"
    }
   ],
   "source": [
    "road_crash[\"Number_of_Fatalities\"].value_counts()"
   ]
  },
  {
   "cell_type": "code",
   "execution_count": 27,
   "metadata": {},
   "outputs": [
    {
     "data": {
      "text/html": [
       "<div>\n",
       "<style>\n",
       "    .dataframe thead tr:only-child th {\n",
       "        text-align: right;\n",
       "    }\n",
       "\n",
       "    .dataframe thead th {\n",
       "        text-align: left;\n",
       "    }\n",
       "\n",
       "    .dataframe tbody tr th {\n",
       "        vertical-align: top;\n",
       "    }\n",
       "</style>\n",
       "<table border=\"1\" class=\"dataframe\">\n",
       "  <thead>\n",
       "    <tr style=\"text-align: right;\">\n",
       "      <th></th>\n",
       "      <th>CrashID</th>\n",
       "      <th>Month</th>\n",
       "      <th>Year</th>\n",
       "      <th>Number_of_Fatalities</th>\n",
       "    </tr>\n",
       "    <tr>\n",
       "      <th>State</th>\n",
       "      <th></th>\n",
       "      <th></th>\n",
       "      <th></th>\n",
       "      <th></th>\n",
       "    </tr>\n",
       "  </thead>\n",
       "  <tbody>\n",
       "    <tr>\n",
       "      <th>QLD</th>\n",
       "      <td>27444752338370168</td>\n",
       "      <td>57884</td>\n",
       "      <td>17166931</td>\n",
       "      <td>9548</td>\n",
       "    </tr>\n",
       "    <tr>\n",
       "      <th>WA</th>\n",
       "      <td>26734503540742416</td>\n",
       "      <td>34333</td>\n",
       "      <td>10294684</td>\n",
       "      <td>5679</td>\n",
       "    </tr>\n",
       "    <tr>\n",
       "      <th>NSW</th>\n",
       "      <td>16274762257096796</td>\n",
       "      <td>89120</td>\n",
       "      <td>27136710</td>\n",
       "      <td>15109</td>\n",
       "    </tr>\n",
       "    <tr>\n",
       "      <th>VIC</th>\n",
       "      <td>21257502021505248</td>\n",
       "      <td>62285</td>\n",
       "      <td>19334382</td>\n",
       "      <td>10692</td>\n",
       "    </tr>\n",
       "    <tr>\n",
       "      <th>ACT</th>\n",
       "      <td>3362047649673493</td>\n",
       "      <td>2785</td>\n",
       "      <td>820448</td>\n",
       "      <td>448</td>\n",
       "    </tr>\n",
       "    <tr>\n",
       "      <th>SA</th>\n",
       "      <td>15620194207385752</td>\n",
       "      <td>24223</td>\n",
       "      <td>7441694</td>\n",
       "      <td>4189</td>\n",
       "    </tr>\n",
       "    <tr>\n",
       "      <th>TAS</th>\n",
       "      <td>7855566122870332</td>\n",
       "      <td>7927</td>\n",
       "      <td>2535580</td>\n",
       "      <td>1428</td>\n",
       "    </tr>\n",
       "    <tr>\n",
       "      <th>NT</th>\n",
       "      <td>9425073186501548</td>\n",
       "      <td>8985</td>\n",
       "      <td>2620640</td>\n",
       "      <td>1499</td>\n",
       "    </tr>\n",
       "  </tbody>\n",
       "</table>\n",
       "</div>"
      ],
      "text/plain": [
       "                 CrashID  Month      Year  Number_of_Fatalities\n",
       "State                                                          \n",
       "QLD    27444752338370168  57884  17166931                  9548\n",
       "WA     26734503540742416  34333  10294684                  5679\n",
       "NSW    16274762257096796  89120  27136710                 15109\n",
       "VIC    21257502021505248  62285  19334382                 10692\n",
       "ACT     3362047649673493   2785    820448                   448\n",
       "SA     15620194207385752  24223   7441694                  4189\n",
       "TAS     7855566122870332   7927   2535580                  1428\n",
       "NT      9425073186501548   8985   2620640                  1499"
      ]
     },
     "execution_count": 27,
     "metadata": {},
     "output_type": "execute_result"
    }
   ],
   "source": [
    "#Which state has the highest number of fatalaties ?\n",
    "road_crash.groupby(\"State\").sum()\n"
   ]
  },
  {
   "cell_type": "code",
   "execution_count": 130,
   "metadata": {},
   "outputs": [
    {
     "data": {
      "text/plain": [
       "<matplotlib.axes._subplots.AxesSubplot at 0x11d0def28>"
      ]
     },
     "execution_count": 130,
     "metadata": {},
     "output_type": "execute_result"
    },
    {
     "data": {
      "image/png": "[encoded data removed]",
      "text/plain": [
       "<matplotlib.figure.Figure at 0x11d2e70f0>"
      ]
     },
     "metadata": {},
     "output_type": "display_data"
    }
   ],
   "source": [
    "#what type pf crashes are most common?\n",
    "plt.figure(figsize=(12,6))\n",
    "sns.set_style('whitegrid')\n",
    "sns.countplot(x='Crash_Type',hue='Number_of_Fatalities',data=road_crash,palette='rainbow')"
   ]
  },
  {
   "cell_type": "markdown",
   "metadata": {},
   "source": [
    "# Correlating Fatalities and States"
   ]
  },
  {
   "cell_type": "code",
   "execution_count": 83,
   "metadata": {},
   "outputs": [
    {
     "data": {
      "text/plain": [
       "NSW    2648\n",
       "VIC    1787\n",
       "QLD    1310\n",
       "WA      684\n",
       "SA      605\n",
       "NT      291\n",
       "TAS     160\n",
       "ACT      62\n",
       "Name: State, dtype: int64"
      ]
     },
     "execution_count": 83,
     "metadata": {},
     "output_type": "execute_result"
    }
   ],
   "source": [
    "#How many pedestrian died in each state?\n",
    "road_crash[road_crash['Crash_Type']=='Pedestrian']['State'].value_counts()"
   ]
  },
  {
   "cell_type": "code",
   "execution_count": 84,
   "metadata": {},
   "outputs": [
    {
     "data": {
      "text/plain": [
       "NSW    5226\n",
       "QLD    3746\n",
       "VIC    3621\n",
       "WA     2625\n",
       "SA     1665\n",
       "NT      792\n",
       "TAS     572\n",
       "ACT     156\n",
       "Name: State, dtype: int64"
      ]
     },
     "execution_count": 84,
     "metadata": {},
     "output_type": "execute_result"
    }
   ],
   "source": [
    "road_crash[road_crash['Crash_Type']=='Single vehicle']['State'].value_counts()"
   ]
  },
  {
   "cell_type": "code",
   "execution_count": 91,
   "metadata": {},
   "outputs": [
    {
     "data": {
      "text/plain": [
       "array(['Pedestrian', ' Multiple vehicle', 'Single vehicle'], dtype=object)"
      ]
     },
     "execution_count": 91,
     "metadata": {},
     "output_type": "execute_result"
    }
   ],
   "source": [
    "road_crash[\"Crash_Type\"].unique()"
   ]
  },
  {
   "cell_type": "code",
   "execution_count": 129,
   "metadata": {},
   "outputs": [
    {
     "data": {
      "text/plain": [
       "<matplotlib.legend.Legend at 0x11cafff98>"
      ]
     },
     "execution_count": 129,
     "metadata": {},
     "output_type": "execute_result"
    },
    {
     "data": {
      "image/png": "[encoded data removed]",
      "text/plain": [
       "<matplotlib.figure.Figure at 0x11cdf4978>"
      ]
     },
     "metadata": {},
     "output_type": "display_data"
    }
   ],
   "source": [
    "plt.figure(figsize=(12,6))\n",
    "sns.countplot(x='State',data= road_crash,hue='Crash_Type',palette='deep')\n",
    "\n",
    "plt.legend(bbox_to_anchor=(1.05, 1), loc=2, borderaxespad=0.1)"
   ]
  },
  {
   "cell_type": "code",
   "execution_count": 103,
   "metadata": {},
   "outputs": [
    {
     "data": {
      "text/html": [
       "<div>\n",
       "<style>\n",
       "    .dataframe thead tr:only-child th {\n",
       "        text-align: right;\n",
       "    }\n",
       "\n",
       "    .dataframe thead th {\n",
       "        text-align: left;\n",
       "    }\n",
       "\n",
       "    .dataframe tbody tr th {\n",
       "        vertical-align: top;\n",
       "    }\n",
       "</style>\n",
       "<table border=\"1\" class=\"dataframe\">\n",
       "  <thead>\n",
       "    <tr style=\"text-align: right;\">\n",
       "      <th></th>\n",
       "      <th>CrashID</th>\n",
       "      <th>State</th>\n",
       "      <th>Date</th>\n",
       "      <th>Month</th>\n",
       "      <th>Year</th>\n",
       "      <th>Dayweek</th>\n",
       "      <th>Time</th>\n",
       "      <th>Crash_Type</th>\n",
       "      <th>Number_of_Fatalities</th>\n",
       "      <th>Bus_Involvement</th>\n",
       "      <th>Heavy_Rigid_Truck_Involvement</th>\n",
       "      <th>Articulated_Truck_Involvement</th>\n",
       "      <th>Speed_Limit</th>\n",
       "    </tr>\n",
       "  </thead>\n",
       "  <tbody>\n",
       "    <tr>\n",
       "      <th>11820</th>\n",
       "      <td>7200701010001</td>\n",
       "      <td>NT</td>\n",
       "      <td>01-JAN-2007</td>\n",
       "      <td>1</td>\n",
       "      <td>2007</td>\n",
       "      <td>Monday</td>\n",
       "      <td>15:00:00</td>\n",
       "      <td>Single vehicle</td>\n",
       "      <td>1</td>\n",
       "      <td>No</td>\n",
       "      <td>No</td>\n",
       "      <td>No</td>\n",
       "      <td>900</td>\n",
       "    </tr>\n",
       "    <tr>\n",
       "      <th>12654</th>\n",
       "      <td>7200707270024</td>\n",
       "      <td>NT</td>\n",
       "      <td>27-JUL-2007</td>\n",
       "      <td>7</td>\n",
       "      <td>2007</td>\n",
       "      <td>Friday</td>\n",
       "      <td>12:00:00</td>\n",
       "      <td>Single vehicle</td>\n",
       "      <td>1</td>\n",
       "      <td>No</td>\n",
       "      <td>No</td>\n",
       "      <td>No</td>\n",
       "      <td>900</td>\n",
       "    </tr>\n",
       "    <tr>\n",
       "      <th>13506</th>\n",
       "      <td>7200602250002</td>\n",
       "      <td>NT</td>\n",
       "      <td>25-FEB-2006</td>\n",
       "      <td>2</td>\n",
       "      <td>2006</td>\n",
       "      <td>Saturday</td>\n",
       "      <td>0:10:00</td>\n",
       "      <td>Single vehicle</td>\n",
       "      <td>1</td>\n",
       "      <td>No</td>\n",
       "      <td>No</td>\n",
       "      <td>No</td>\n",
       "      <td>900</td>\n",
       "    </tr>\n",
       "    <tr>\n",
       "      <th>13507</th>\n",
       "      <td>7200602250003</td>\n",
       "      <td>NT</td>\n",
       "      <td>25-FEB-2006</td>\n",
       "      <td>2</td>\n",
       "      <td>2006</td>\n",
       "      <td>Saturday</td>\n",
       "      <td>12:30:00</td>\n",
       "      <td>Multiple vehicle</td>\n",
       "      <td>1</td>\n",
       "      <td>No</td>\n",
       "      <td>No</td>\n",
       "      <td>Yes</td>\n",
       "      <td>900</td>\n",
       "    </tr>\n",
       "    <tr>\n",
       "      <th>13609</th>\n",
       "      <td>7200603250005</td>\n",
       "      <td>NT</td>\n",
       "      <td>25-MAR-2006</td>\n",
       "      <td>3</td>\n",
       "      <td>2006</td>\n",
       "      <td>Saturday</td>\n",
       "      <td>21:17:00</td>\n",
       "      <td>Multiple vehicle</td>\n",
       "      <td>1</td>\n",
       "      <td>No</td>\n",
       "      <td>No</td>\n",
       "      <td>No</td>\n",
       "      <td>900</td>\n",
       "    </tr>\n",
       "  </tbody>\n",
       "</table>\n",
       "</div>"
      ],
      "text/plain": [
       "             CrashID State         Date  Month  Year   Dayweek      Time  \\\n",
       "11820  7200701010001    NT  01-JAN-2007      1  2007    Monday  15:00:00   \n",
       "12654  7200707270024    NT  27-JUL-2007      7  2007    Friday  12:00:00   \n",
       "13506  7200602250002    NT  25-FEB-2006      2  2006  Saturday   0:10:00   \n",
       "13507  7200602250003    NT  25-FEB-2006      2  2006  Saturday  12:30:00   \n",
       "13609  7200603250005    NT  25-MAR-2006      3  2006  Saturday  21:17:00   \n",
       "\n",
       "              Crash_Type  Number_of_Fatalities Bus_Involvement  \\\n",
       "11820     Single vehicle                     1              No   \n",
       "12654     Single vehicle                     1              No   \n",
       "13506     Single vehicle                     1              No   \n",
       "13507   Multiple vehicle                     1              No   \n",
       "13609   Multiple vehicle                     1              No   \n",
       "\n",
       "      Heavy_Rigid_Truck_Involvement Articulated_Truck_Involvement Speed_Limit  \n",
       "11820                            No                            No         900  \n",
       "12654                            No                            No         900  \n",
       "13506                            No                            No         900  \n",
       "13507                            No                           Yes         900  \n",
       "13609                            No                            No         900  "
      ]
     },
     "execution_count": 103,
     "metadata": {},
     "output_type": "execute_result"
    }
   ],
   "source": [
    "#Looks like a wrong values \n",
    "road_crash[road_crash[\"Speed_Limit\"]=='900'].head()"
   ]
  },
  {
   "cell_type": "code",
   "execution_count": 107,
   "metadata": {},
   "outputs": [
    {
     "data": {
      "text/html": [
       "<div>\n",
       "<style>\n",
       "    .dataframe thead tr:only-child th {\n",
       "        text-align: right;\n",
       "    }\n",
       "\n",
       "    .dataframe thead th {\n",
       "        text-align: left;\n",
       "    }\n",
       "\n",
       "    .dataframe tbody tr th {\n",
       "        vertical-align: top;\n",
       "    }\n",
       "</style>\n",
       "<table border=\"1\" class=\"dataframe\">\n",
       "  <thead>\n",
       "    <tr style=\"text-align: right;\">\n",
       "      <th></th>\n",
       "      <th>CrashID</th>\n",
       "      <th>State</th>\n",
       "      <th>Date</th>\n",
       "      <th>Month</th>\n",
       "      <th>Dayweek</th>\n",
       "      <th>Time</th>\n",
       "      <th>Crash_Type</th>\n",
       "      <th>Number_of_Fatalities</th>\n",
       "      <th>Bus_Involvement</th>\n",
       "      <th>Heavy_Rigid_Truck_Involvement</th>\n",
       "      <th>Articulated_Truck_Involvement</th>\n",
       "      <th>Speed_Limit</th>\n",
       "    </tr>\n",
       "    <tr>\n",
       "      <th>Year</th>\n",
       "      <th></th>\n",
       "      <th></th>\n",
       "      <th></th>\n",
       "      <th></th>\n",
       "      <th></th>\n",
       "      <th></th>\n",
       "      <th></th>\n",
       "      <th></th>\n",
       "      <th></th>\n",
       "      <th></th>\n",
       "      <th></th>\n",
       "      <th></th>\n",
       "    </tr>\n",
       "  </thead>\n",
       "  <tbody>\n",
       "    <tr>\n",
       "      <th>1989</th>\n",
       "      <td>2407</td>\n",
       "      <td>2407</td>\n",
       "      <td>2407</td>\n",
       "      <td>2407</td>\n",
       "      <td>2407</td>\n",
       "      <td>2407</td>\n",
       "      <td>2407</td>\n",
       "      <td>2407</td>\n",
       "      <td>2407</td>\n",
       "      <td>2407</td>\n",
       "      <td>2407</td>\n",
       "      <td>2407</td>\n",
       "    </tr>\n",
       "    <tr>\n",
       "      <th>1990</th>\n",
       "      <td>2050</td>\n",
       "      <td>2050</td>\n",
       "      <td>2050</td>\n",
       "      <td>2050</td>\n",
       "      <td>2050</td>\n",
       "      <td>2050</td>\n",
       "      <td>2050</td>\n",
       "      <td>2050</td>\n",
       "      <td>2050</td>\n",
       "      <td>2050</td>\n",
       "      <td>2050</td>\n",
       "      <td>2050</td>\n",
       "    </tr>\n",
       "    <tr>\n",
       "      <th>1991</th>\n",
       "      <td>1874</td>\n",
       "      <td>1874</td>\n",
       "      <td>1874</td>\n",
       "      <td>1874</td>\n",
       "      <td>1874</td>\n",
       "      <td>1874</td>\n",
       "      <td>1874</td>\n",
       "      <td>1874</td>\n",
       "      <td>1874</td>\n",
       "      <td>1874</td>\n",
       "      <td>1874</td>\n",
       "      <td>1874</td>\n",
       "    </tr>\n",
       "    <tr>\n",
       "      <th>1992</th>\n",
       "      <td>1736</td>\n",
       "      <td>1736</td>\n",
       "      <td>1736</td>\n",
       "      <td>1736</td>\n",
       "      <td>1736</td>\n",
       "      <td>1736</td>\n",
       "      <td>1736</td>\n",
       "      <td>1736</td>\n",
       "      <td>1736</td>\n",
       "      <td>1736</td>\n",
       "      <td>1736</td>\n",
       "      <td>1736</td>\n",
       "    </tr>\n",
       "    <tr>\n",
       "      <th>1993</th>\n",
       "      <td>1737</td>\n",
       "      <td>1737</td>\n",
       "      <td>1737</td>\n",
       "      <td>1737</td>\n",
       "      <td>1737</td>\n",
       "      <td>1737</td>\n",
       "      <td>1737</td>\n",
       "      <td>1737</td>\n",
       "      <td>1737</td>\n",
       "      <td>1737</td>\n",
       "      <td>1737</td>\n",
       "      <td>1737</td>\n",
       "    </tr>\n",
       "  </tbody>\n",
       "</table>\n",
       "</div>"
      ],
      "text/plain": [
       "      CrashID  State  Date  Month  Dayweek  Time  Crash_Type  \\\n",
       "Year                                                           \n",
       "1989     2407   2407  2407   2407     2407  2407        2407   \n",
       "1990     2050   2050  2050   2050     2050  2050        2050   \n",
       "1991     1874   1874  1874   1874     1874  1874        1874   \n",
       "1992     1736   1736  1736   1736     1736  1736        1736   \n",
       "1993     1737   1737  1737   1737     1737  1737        1737   \n",
       "\n",
       "      Number_of_Fatalities  Bus_Involvement  Heavy_Rigid_Truck_Involvement  \\\n",
       "Year                                                                         \n",
       "1989                  2407             2407                           2407   \n",
       "1990                  2050             2050                           2050   \n",
       "1991                  1874             1874                           1874   \n",
       "1992                  1736             1736                           1736   \n",
       "1993                  1737             1737                           1737   \n",
       "\n",
       "      Articulated_Truck_Involvement  Speed_Limit  \n",
       "Year                                              \n",
       "1989                           2407         2407  \n",
       "1990                           2050         2050  \n",
       "1991                           1874         1874  \n",
       "1992                           1736         1736  \n",
       "1993                           1737         1737  "
      ]
     },
     "execution_count": 107,
     "metadata": {},
     "output_type": "execute_result"
    }
   ],
   "source": [
    "#Lets Focus on Year\n",
    "by_Year = road_crash.groupby('Year').count()\n",
    "by_Year.head()"
   ]
  },
  {
   "cell_type": "code",
   "execution_count": 108,
   "metadata": {},
   "outputs": [
    {
     "data": {
      "text/plain": [
       "<matplotlib.axes._subplots.AxesSubplot at 0x11b47ab38>"
      ]
     },
     "execution_count": 108,
     "metadata": {},
     "output_type": "execute_result"
    },
    {
     "data": {
      "image/png": "[encoded data removed]",
      "text/plain": [
       "<matplotlib.figure.Figure at 0x11b332f60>"
      ]
     },
     "metadata": {},
     "output_type": "display_data"
    }
   ],
   "source": [
    "\n",
    "#every year number of fatalities are decreasing which is good \n",
    "by_Year['State'].plot()"
   ]
  },
  {
   "cell_type": "code",
   "execution_count": 109,
   "metadata": {},
   "outputs": [
    {
     "data": {
      "text/html": [
       "<div>\n",
       "<style>\n",
       "    .dataframe thead tr:only-child th {\n",
       "        text-align: right;\n",
       "    }\n",
       "\n",
       "    .dataframe thead th {\n",
       "        text-align: left;\n",
       "    }\n",
       "\n",
       "    .dataframe tbody tr th {\n",
       "        vertical-align: top;\n",
       "    }\n",
       "</style>\n",
       "<table border=\"1\" class=\"dataframe\">\n",
       "  <thead>\n",
       "    <tr style=\"text-align: right;\">\n",
       "      <th></th>\n",
       "      <th>CrashID</th>\n",
       "      <th>State</th>\n",
       "      <th>Date</th>\n",
       "      <th>Year</th>\n",
       "      <th>Dayweek</th>\n",
       "      <th>Time</th>\n",
       "      <th>Crash_Type</th>\n",
       "      <th>Number_of_Fatalities</th>\n",
       "      <th>Bus_Involvement</th>\n",
       "      <th>Heavy_Rigid_Truck_Involvement</th>\n",
       "      <th>Articulated_Truck_Involvement</th>\n",
       "      <th>Speed_Limit</th>\n",
       "    </tr>\n",
       "    <tr>\n",
       "      <th>Month</th>\n",
       "      <th></th>\n",
       "      <th></th>\n",
       "      <th></th>\n",
       "      <th></th>\n",
       "      <th></th>\n",
       "      <th></th>\n",
       "      <th></th>\n",
       "      <th></th>\n",
       "      <th></th>\n",
       "      <th></th>\n",
       "      <th></th>\n",
       "      <th></th>\n",
       "    </tr>\n",
       "  </thead>\n",
       "  <tbody>\n",
       "    <tr>\n",
       "      <th>1</th>\n",
       "      <td>3487</td>\n",
       "      <td>3487</td>\n",
       "      <td>3487</td>\n",
       "      <td>3487</td>\n",
       "      <td>3487</td>\n",
       "      <td>3487</td>\n",
       "      <td>3487</td>\n",
       "      <td>3487</td>\n",
       "      <td>3487</td>\n",
       "      <td>3487</td>\n",
       "      <td>3487</td>\n",
       "      <td>3487</td>\n",
       "    </tr>\n",
       "    <tr>\n",
       "      <th>2</th>\n",
       "      <td>3273</td>\n",
       "      <td>3273</td>\n",
       "      <td>3273</td>\n",
       "      <td>3273</td>\n",
       "      <td>3273</td>\n",
       "      <td>3273</td>\n",
       "      <td>3273</td>\n",
       "      <td>3273</td>\n",
       "      <td>3273</td>\n",
       "      <td>3273</td>\n",
       "      <td>3273</td>\n",
       "      <td>3273</td>\n",
       "    </tr>\n",
       "    <tr>\n",
       "      <th>3</th>\n",
       "      <td>3865</td>\n",
       "      <td>3865</td>\n",
       "      <td>3865</td>\n",
       "      <td>3865</td>\n",
       "      <td>3865</td>\n",
       "      <td>3865</td>\n",
       "      <td>3865</td>\n",
       "      <td>3865</td>\n",
       "      <td>3865</td>\n",
       "      <td>3865</td>\n",
       "      <td>3865</td>\n",
       "      <td>3865</td>\n",
       "    </tr>\n",
       "    <tr>\n",
       "      <th>4</th>\n",
       "      <td>3547</td>\n",
       "      <td>3547</td>\n",
       "      <td>3547</td>\n",
       "      <td>3547</td>\n",
       "      <td>3547</td>\n",
       "      <td>3547</td>\n",
       "      <td>3547</td>\n",
       "      <td>3547</td>\n",
       "      <td>3547</td>\n",
       "      <td>3547</td>\n",
       "      <td>3547</td>\n",
       "      <td>3547</td>\n",
       "    </tr>\n",
       "    <tr>\n",
       "      <th>5</th>\n",
       "      <td>3732</td>\n",
       "      <td>3732</td>\n",
       "      <td>3732</td>\n",
       "      <td>3732</td>\n",
       "      <td>3732</td>\n",
       "      <td>3732</td>\n",
       "      <td>3732</td>\n",
       "      <td>3732</td>\n",
       "      <td>3732</td>\n",
       "      <td>3732</td>\n",
       "      <td>3732</td>\n",
       "      <td>3732</td>\n",
       "    </tr>\n",
       "  </tbody>\n",
       "</table>\n",
       "</div>"
      ],
      "text/plain": [
       "       CrashID  State  Date  Year  Dayweek  Time  Crash_Type  \\\n",
       "Month                                                          \n",
       "1         3487   3487  3487  3487     3487  3487        3487   \n",
       "2         3273   3273  3273  3273     3273  3273        3273   \n",
       "3         3865   3865  3865  3865     3865  3865        3865   \n",
       "4         3547   3547  3547  3547     3547  3547        3547   \n",
       "5         3732   3732  3732  3732     3732  3732        3732   \n",
       "\n",
       "       Number_of_Fatalities  Bus_Involvement  Heavy_Rigid_Truck_Involvement  \\\n",
       "Month                                                                         \n",
       "1                      3487             3487                           3487   \n",
       "2                      3273             3273                           3273   \n",
       "3                      3865             3865                           3865   \n",
       "4                      3547             3547                           3547   \n",
       "5                      3732             3732                           3732   \n",
       "\n",
       "       Articulated_Truck_Involvement  Speed_Limit  \n",
       "Month                                              \n",
       "1                               3487         3487  \n",
       "2                               3273         3273  \n",
       "3                               3865         3865  \n",
       "4                               3547         3547  \n",
       "5                               3732         3732  "
      ]
     },
     "execution_count": 109,
     "metadata": {},
     "output_type": "execute_result"
    }
   ],
   "source": [
    "by_month = road_crash.groupby('Month').count()\n",
    "by_month.head()"
   ]
  },
  {
   "cell_type": "code",
   "execution_count": 112,
   "metadata": {},
   "outputs": [
    {
     "data": {
      "text/plain": [
       "<matplotlib.axes._subplots.AxesSubplot at 0x11b8d0c50>"
      ]
     },
     "execution_count": 112,
     "metadata": {},
     "output_type": "execute_result"
    },
    {
     "data": {
      "image/png": "[encoded data removed]",
      "text/plain": [
       "<matplotlib.figure.Figure at 0x11c5b39b0>"
      ]
     },
     "metadata": {},
     "output_type": "display_data"
    }
   ],
   "source": [
    "by_month['State'].plot()"
   ]
  },
  {
   "cell_type": "markdown",
   "metadata": {},
   "source": [
    "As we can see , the fatalities tends to increase in the months of December"
   ]
  },
  {
   "cell_type": "markdown",
   "metadata": {},
   "source": [
    "# Fatalities where Trucks were involved "
   ]
  },
  {
   "cell_type": "code",
   "execution_count": 116,
   "metadata": {},
   "outputs": [
    {
     "data": {
      "text/html": [
       "<div>\n",
       "<style>\n",
       "    .dataframe thead tr:only-child th {\n",
       "        text-align: right;\n",
       "    }\n",
       "\n",
       "    .dataframe thead th {\n",
       "        text-align: left;\n",
       "    }\n",
       "\n",
       "    .dataframe tbody tr th {\n",
       "        vertical-align: top;\n",
       "    }\n",
       "</style>\n",
       "<table border=\"1\" class=\"dataframe\">\n",
       "  <thead>\n",
       "    <tr style=\"text-align: right;\">\n",
       "      <th></th>\n",
       "      <th>CrashID</th>\n",
       "      <th>State</th>\n",
       "      <th>Date</th>\n",
       "      <th>Month</th>\n",
       "      <th>Year</th>\n",
       "      <th>Dayweek</th>\n",
       "      <th>Time</th>\n",
       "      <th>Crash_Type</th>\n",
       "      <th>Number_of_Fatalities</th>\n",
       "      <th>Bus_Involvement</th>\n",
       "      <th>Heavy_Rigid_Truck_Involvement</th>\n",
       "      <th>Articulated_Truck_Involvement</th>\n",
       "      <th>Speed_Limit</th>\n",
       "    </tr>\n",
       "  </thead>\n",
       "  <tbody>\n",
       "    <tr>\n",
       "      <th>7</th>\n",
       "      <td>1201701030003</td>\n",
       "      <td>NSW</td>\n",
       "      <td>03-JAN-2017</td>\n",
       "      <td>1</td>\n",
       "      <td>2017</td>\n",
       "      <td>Tuesday</td>\n",
       "      <td>14:15:00</td>\n",
       "      <td>Multiple vehicle</td>\n",
       "      <td>2</td>\n",
       "      <td>No</td>\n",
       "      <td>Yes</td>\n",
       "      <td>Yes</td>\n",
       "      <td>100</td>\n",
       "    </tr>\n",
       "    <tr>\n",
       "      <th>11</th>\n",
       "      <td>1201701050004</td>\n",
       "      <td>NSW</td>\n",
       "      <td>05-JAN-2017</td>\n",
       "      <td>1</td>\n",
       "      <td>2017</td>\n",
       "      <td>Thursday</td>\n",
       "      <td>10:18:00</td>\n",
       "      <td>Pedestrian</td>\n",
       "      <td>1</td>\n",
       "      <td>No</td>\n",
       "      <td>No</td>\n",
       "      <td>Yes</td>\n",
       "      <td>60</td>\n",
       "    </tr>\n",
       "    <tr>\n",
       "      <th>22</th>\n",
       "      <td>3201701100007</td>\n",
       "      <td>QLD</td>\n",
       "      <td>10-JAN-2017</td>\n",
       "      <td>1</td>\n",
       "      <td>2017</td>\n",
       "      <td>Tuesday</td>\n",
       "      <td>12:00:00</td>\n",
       "      <td>Pedestrian</td>\n",
       "      <td>1</td>\n",
       "      <td>No</td>\n",
       "      <td>Yes</td>\n",
       "      <td>Yes</td>\n",
       "      <td>100</td>\n",
       "    </tr>\n",
       "    <tr>\n",
       "      <th>27</th>\n",
       "      <td>2201701110005</td>\n",
       "      <td>VIC</td>\n",
       "      <td>11-JAN-2017</td>\n",
       "      <td>1</td>\n",
       "      <td>2017</td>\n",
       "      <td>Wednesday</td>\n",
       "      <td>14:30:00</td>\n",
       "      <td>Multiple vehicle</td>\n",
       "      <td>1</td>\n",
       "      <td>No</td>\n",
       "      <td>No</td>\n",
       "      <td>Yes</td>\n",
       "      <td>100</td>\n",
       "    </tr>\n",
       "    <tr>\n",
       "      <th>52</th>\n",
       "      <td>2201701170011</td>\n",
       "      <td>VIC</td>\n",
       "      <td>17-JAN-2017</td>\n",
       "      <td>1</td>\n",
       "      <td>2017</td>\n",
       "      <td>Tuesday</td>\n",
       "      <td>16:00:00</td>\n",
       "      <td>Multiple vehicle</td>\n",
       "      <td>1</td>\n",
       "      <td>No</td>\n",
       "      <td>No</td>\n",
       "      <td>Yes</td>\n",
       "      <td>110</td>\n",
       "    </tr>\n",
       "  </tbody>\n",
       "</table>\n",
       "</div>"
      ],
      "text/plain": [
       "          CrashID State         Date  Month  Year    Dayweek      Time  \\\n",
       "7   1201701030003   NSW  03-JAN-2017      1  2017    Tuesday  14:15:00   \n",
       "11  1201701050004   NSW  05-JAN-2017      1  2017   Thursday  10:18:00   \n",
       "22  3201701100007   QLD  10-JAN-2017      1  2017    Tuesday  12:00:00   \n",
       "27  2201701110005   VIC  11-JAN-2017      1  2017  Wednesday  14:30:00   \n",
       "52  2201701170011   VIC  17-JAN-2017      1  2017    Tuesday  16:00:00   \n",
       "\n",
       "           Crash_Type  Number_of_Fatalities Bus_Involvement  \\\n",
       "7    Multiple vehicle                     2              No   \n",
       "11         Pedestrian                     1              No   \n",
       "22         Pedestrian                     1              No   \n",
       "27   Multiple vehicle                     1              No   \n",
       "52   Multiple vehicle                     1              No   \n",
       "\n",
       "   Heavy_Rigid_Truck_Involvement Articulated_Truck_Involvement Speed_Limit  \n",
       "7                            Yes                           Yes         100  \n",
       "11                            No                           Yes          60  \n",
       "22                           Yes                           Yes         100  \n",
       "27                            No                           Yes         100  \n",
       "52                            No                           Yes         110  "
      ]
     },
     "execution_count": 116,
     "metadata": {},
     "output_type": "execute_result"
    }
   ],
   "source": [
    "trucks = road_crash[road_crash[\"Articulated_Truck_Involvement\"]=='Yes']\n",
    "trucks.head()"
   ]
  },
  {
   "cell_type": "code",
   "execution_count": 128,
   "metadata": {},
   "outputs": [
    {
     "data": {
      "text/plain": [
       "<matplotlib.axes._subplots.AxesSubplot at 0x11c70af60>"
      ]
     },
     "execution_count": 128,
     "metadata": {},
     "output_type": "execute_result"
    },
    {
     "data": {
      "image/png": "[encoded data removed]",
      "text/plain": [
       "<matplotlib.figure.Figure at 0x11cc5a518>"
      ]
     },
     "metadata": {},
     "output_type": "display_data"
    }
   ],
   "source": [
    "plt.figure(figsize=(12,6))\n",
    "sns.countplot(y='State',data= trucks,hue='Crash_Type',palette='Set3')"
   ]
  },
  {
   "cell_type": "markdown",
   "metadata": {},
   "source": [
    "# Correlation "
   ]
  },
  {
   "cell_type": "code",
   "execution_count": 131,
   "metadata": {},
   "outputs": [
    {
     "data": {
      "text/html": [
       "<div>\n",
       "<style>\n",
       "    .dataframe thead tr:only-child th {\n",
       "        text-align: right;\n",
       "    }\n",
       "\n",
       "    .dataframe thead th {\n",
       "        text-align: left;\n",
       "    }\n",
       "\n",
       "    .dataframe tbody tr th {\n",
       "        vertical-align: top;\n",
       "    }\n",
       "</style>\n",
       "<table border=\"1\" class=\"dataframe\">\n",
       "  <thead>\n",
       "    <tr style=\"text-align: right;\">\n",
       "      <th></th>\n",
       "      <th>CrashID</th>\n",
       "      <th>State</th>\n",
       "      <th>Date</th>\n",
       "      <th>Month</th>\n",
       "      <th>Year</th>\n",
       "      <th>Dayweek</th>\n",
       "      <th>Time</th>\n",
       "      <th>Crash_Type</th>\n",
       "      <th>Number_of_Fatalities</th>\n",
       "      <th>Bus_Involvement</th>\n",
       "      <th>Heavy_Rigid_Truck_Involvement</th>\n",
       "      <th>Articulated_Truck_Involvement</th>\n",
       "      <th>Speed_Limit</th>\n",
       "    </tr>\n",
       "  </thead>\n",
       "  <tbody>\n",
       "    <tr>\n",
       "      <th>0</th>\n",
       "      <td>3201701010001</td>\n",
       "      <td>QLD</td>\n",
       "      <td>01-JAN-2017</td>\n",
       "      <td>1</td>\n",
       "      <td>2017</td>\n",
       "      <td>Sunday</td>\n",
       "      <td>0:00:00</td>\n",
       "      <td>Pedestrian</td>\n",
       "      <td>1</td>\n",
       "      <td>No</td>\n",
       "      <td>No</td>\n",
       "      <td>No</td>\n",
       "      <td>50</td>\n",
       "    </tr>\n",
       "    <tr>\n",
       "      <th>1</th>\n",
       "      <td>5201701010001</td>\n",
       "      <td>WA</td>\n",
       "      <td>01-JAN-2017</td>\n",
       "      <td>1</td>\n",
       "      <td>2017</td>\n",
       "      <td>Sunday</td>\n",
       "      <td>16:30:00</td>\n",
       "      <td>Multiple vehicle</td>\n",
       "      <td>1</td>\n",
       "      <td>No</td>\n",
       "      <td>No</td>\n",
       "      <td>No</td>\n",
       "      <td>100</td>\n",
       "    </tr>\n",
       "    <tr>\n",
       "      <th>2</th>\n",
       "      <td>5201701010002</td>\n",
       "      <td>WA</td>\n",
       "      <td>01-JAN-2017</td>\n",
       "      <td>1</td>\n",
       "      <td>2017</td>\n",
       "      <td>Sunday</td>\n",
       "      <td>17:14:00</td>\n",
       "      <td>Multiple vehicle</td>\n",
       "      <td>1</td>\n",
       "      <td>No</td>\n",
       "      <td>No</td>\n",
       "      <td>No</td>\n",
       "      <td>70</td>\n",
       "    </tr>\n",
       "    <tr>\n",
       "      <th>3</th>\n",
       "      <td>1201701020001</td>\n",
       "      <td>NSW</td>\n",
       "      <td>02-JAN-2017</td>\n",
       "      <td>1</td>\n",
       "      <td>2017</td>\n",
       "      <td>Monday</td>\n",
       "      <td>18:10:00</td>\n",
       "      <td>Single vehicle</td>\n",
       "      <td>1</td>\n",
       "      <td>No</td>\n",
       "      <td>No</td>\n",
       "      <td>No</td>\n",
       "      <td>50</td>\n",
       "    </tr>\n",
       "    <tr>\n",
       "      <th>4</th>\n",
       "      <td>1201701020002</td>\n",
       "      <td>NSW</td>\n",
       "      <td>02-JAN-2017</td>\n",
       "      <td>1</td>\n",
       "      <td>2017</td>\n",
       "      <td>Monday</td>\n",
       "      <td>13:15:00</td>\n",
       "      <td>Multiple vehicle</td>\n",
       "      <td>1</td>\n",
       "      <td>No</td>\n",
       "      <td>No</td>\n",
       "      <td>No</td>\n",
       "      <td>80</td>\n",
       "    </tr>\n",
       "  </tbody>\n",
       "</table>\n",
       "</div>"
      ],
      "text/plain": [
       "         CrashID State         Date  Month  Year Dayweek      Time  \\\n",
       "0  3201701010001   QLD  01-JAN-2017      1  2017  Sunday   0:00:00   \n",
       "1  5201701010001    WA  01-JAN-2017      1  2017  Sunday  16:30:00   \n",
       "2  5201701010002    WA  01-JAN-2017      1  2017  Sunday  17:14:00   \n",
       "3  1201701020001   NSW  02-JAN-2017      1  2017  Monday  18:10:00   \n",
       "4  1201701020002   NSW  02-JAN-2017      1  2017  Monday  13:15:00   \n",
       "\n",
       "          Crash_Type  Number_of_Fatalities Bus_Involvement  \\\n",
       "0         Pedestrian                     1              No   \n",
       "1   Multiple vehicle                     1              No   \n",
       "2   Multiple vehicle                     1              No   \n",
       "3     Single vehicle                     1              No   \n",
       "4   Multiple vehicle                     1              No   \n",
       "\n",
       "  Heavy_Rigid_Truck_Involvement Articulated_Truck_Involvement Speed_Limit  \n",
       "0                            No                            No          50  \n",
       "1                            No                            No         100  \n",
       "2                            No                            No          70  \n",
       "3                            No                            No          50  \n",
       "4                            No                            No          80  "
      ]
     },
     "execution_count": 131,
     "metadata": {},
     "output_type": "execute_result"
    }
   ],
   "source": [
    "road_crash.head()"
   ]
  },
  {
   "cell_type": "code",
   "execution_count": 134,
   "metadata": {},
   "outputs": [
    {
     "data": {
      "text/plain": [
       "<seaborn.axisgrid.PairGrid at 0x11db76630>"
      ]
     },
     "execution_count": 134,
     "metadata": {},
     "output_type": "execute_result"
    },
    {
     "data": {
      "image/png": "[encoded data removed]",
      "text/plain": [
       "<matplotlib.figure.Figure at 0x11d2e2710>"
      ]
     },
     "metadata": {},
     "output_type": "display_data"
    }
   ],
   "source": [
    "sns.pairplot(road_crash[1:])"
   ]
  },
  {
   "cell_type": "code",
   "execution_count": null,
   "metadata": {
    "collapsed": true
   },
   "outputs": [],
   "source": []
  }
 ],
 "metadata": {
  "kernelspec": {
   "display_name": "Python 3",
   "language": "python",
   "name": "python3"
  },
  "language_info": {
   "codemirror_mode": {
    "name": "ipython",
    "version": 3
   },
   "file_extension": ".py",
   "mimetype": "text/x-python",
   "name": "python",
   "nbconvert_exporter": "python",
   "pygments_lexer": "ipython3",
   "version": "3.6.1"
  }
 },
 "nbformat": 4,
 "nbformat_minor": 2
}
